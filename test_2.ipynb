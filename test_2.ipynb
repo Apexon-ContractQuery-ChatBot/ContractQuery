{
 "cells": [
  {
   "cell_type": "code",
   "execution_count": 21,
   "metadata": {},
   "outputs": [],
   "source": [
    "import os\n",
    "import openai\n",
    "from langchain import OpenAI\n",
    "from langchain.chains import RetrievalQA\n",
    "from langchain.embeddings.openai import OpenAIEmbeddings\n",
    "from langchain.vectorstores import Chroma\n",
    "from langchain.document_loaders import DirectoryLoader, TextLoader, PyPDFLoader"
   ]
  },
  {
   "cell_type": "code",
   "execution_count": 22,
   "metadata": {},
   "outputs": [],
   "source": [
    "# Load OpenAI API key from environment variable\n",
    "openai.api_key = os.getenv(\"OPENAI_API_KEY\")"
   ]
  },
  {
   "cell_type": "code",
   "execution_count": 23,
   "metadata": {},
   "outputs": [],
   "source": [
    "# Step 1: Import the documents from the database\n",
    "documents_directory = '/Users/vedantjoshi/Desktop/cq_Bot/ContractQuery/Synthetic.Data/'"
   ]
  },
  {
   "cell_type": "code",
   "execution_count": 24,
   "metadata": {},
   "outputs": [],
   "source": [
    "# Load all text files\n",
    "text_loader = DirectoryLoader(documents_directory, glob=\"*.txt\", loader_cls=TextLoader)\n",
    "text_documents = text_loader.load()\n",
    "\n",
    "# Load all PDF files\n",
    "pdf_loader = DirectoryLoader(documents_directory, glob=\"*.pdf\", loader_cls=PyPDFLoader)\n",
    "pdf_documents = pdf_loader.load()\n",
    "\n",
    "# Combine all documents\n",
    "documents = text_documents + pdf_documents"
   ]
  },
  {
   "cell_type": "code",
   "execution_count": 25,
   "metadata": {},
   "outputs": [],
   "source": [
    "# Step 2: Initialize the OpenAI embedding model\n",
    "embeddings = OpenAIEmbeddings()"
   ]
  },
  {
   "cell_type": "code",
   "execution_count": 26,
   "metadata": {},
   "outputs": [
    {
     "name": "stderr",
     "output_type": "stream",
     "text": [
      "/Users/vedantjoshi/anaconda3/lib/python3.11/site-packages/langchain_core/_api/deprecation.py:141: LangChainDeprecationWarning: Since Chroma 0.4.x the manual persistence method is no longer supported as docs are automatically persisted.\n",
      "  warn_deprecated(\n"
     ]
    }
   ],
   "source": [
    "# Step 3: Initialize ChromaDB and add documents\n",
    "vectorstore = Chroma(persist_directory=\"chromadb_data\", embedding_function=embeddings)\n",
    "vectorstore.add_texts(texts=[doc.page_content for doc in documents], metadatas=[doc.metadata for doc in documents])\n",
    "\n",
    "# Persist the ChromaDB instance (this step is necessary if you want to use the database in future sessions)\n",
    "vectorstore.persist()"
   ]
  },
  {
   "cell_type": "code",
   "execution_count": 27,
   "metadata": {},
   "outputs": [
    {
     "name": "stderr",
     "output_type": "stream",
     "text": [
      "/Users/vedantjoshi/anaconda3/lib/python3.11/site-packages/langchain_core/_api/deprecation.py:141: LangChainDeprecationWarning: The class `OpenAI` was deprecated in LangChain 0.0.10 and will be removed in 0.3.0. An updated version of the class exists in the langchain-openai package and should be used instead. To use it run `pip install -U langchain-openai` and import as `from langchain_openai import OpenAI`.\n",
      "  warn_deprecated(\n"
     ]
    }
   ],
   "source": [
    "# Step 4: Create the RetrievalQA chain using Langchain\n",
    "retrieval_qa = RetrievalQA.from_chain_type(\n",
    "    llm=OpenAI(temperature=0),  # OpenAI model instance\n",
    "    chain_type=\"stuff\",  # RAG retrieval strategy\n",
    "    retriever=vectorstore.as_retriever()\n",
    ")"
   ]
  },
  {
   "cell_type": "code",
   "execution_count": 30,
   "metadata": {},
   "outputs": [],
   "source": [
    "# Step 5: Sample Queries for Testing\n",
    "queries = [\n",
    "    \"What is the weather today?\",\n",
    "]"
   ]
  },
  {
   "cell_type": "code",
   "execution_count": 31,
   "metadata": {},
   "outputs": [
    {
     "name": "stdout",
     "output_type": "stream",
     "text": [
      "Query: What is the weather today?\n",
      "Answer:  I don't know, as the context provided does not mention anything about the weather.\n",
      "--------------------------------------------------\n"
     ]
    }
   ],
   "source": [
    "# Test the RAG system with the sample queries\n",
    "for query in queries:\n",
    "    result = retrieval_qa.run(query)\n",
    "    print(f\"Query: {query}\")\n",
    "    print(f\"Answer: {result}\")\n",
    "    print(\"-\" * 50)"
   ]
  },
  {
   "cell_type": "code",
   "execution_count": null,
   "metadata": {},
   "outputs": [],
   "source": []
  }
 ],
 "metadata": {
  "kernelspec": {
   "display_name": "base",
   "language": "python",
   "name": "python3"
  },
  "language_info": {
   "codemirror_mode": {
    "name": "ipython",
    "version": 3
   },
   "file_extension": ".py",
   "mimetype": "text/x-python",
   "name": "python",
   "nbconvert_exporter": "python",
   "pygments_lexer": "ipython3",
   "version": "3.11.5"
  }
 },
 "nbformat": 4,
 "nbformat_minor": 2
}
